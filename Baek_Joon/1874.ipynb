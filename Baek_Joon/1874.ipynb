{
 "cells": [
  {
   "cell_type": "markdown",
   "metadata": {},
   "source": [
    "자료구조 _ 스택과 큐"
   ]
  },
  {
   "cell_type": "markdown",
   "metadata": {},
   "source": [
    "> [실버III] \n",
    "# 1874_스택 수열"
   ]
  },
  {
   "cell_type": "markdown",
   "metadata": {},
   "source": [
    "문제\n",
    "#### 1부터 n까지의 수를 스택에 넣었다가 뽑아 늘어놓음으로써, 하나의 수열을 만들 수 있다. 이때, 스택에 push하는 순서는 반드시 오름차순을 지키도록 한다고 하자. 임의의 수열이 주어졌을 때 스택을 이용해 그 수열을 만들 수 있는지 없는지, 있다면 어떤 순서로 push와 pop 연산을 수행해야 하는지를 알아낼 수 있다. 이를 계산하는 프로그램을 작성하라.\n",
    "\n",
    "입력\n",
    "- 첫 줄에 n (1 ≤ n ≤ 100,000)이 주어진다. 둘째 줄부터 n개의 줄에는 수열을 이루는 1이상 n이하의 정수가 하나씩 순서대로 주어진다. 물론 같은 정수가 두 번 나오는 일은 없다.\n",
    "\n",
    "출력\n",
    "- 입력된 수열을 만들기 위해 필요한 연산을 한 줄에 한 개씩 출력한다. push연산은 +로, pop 연산은 -로 표현하도록 한다. 불가능한 경우 NO를 출력한다."
   ]
  },
  {
   "cell_type": "markdown",
   "metadata": {},
   "source": [
    "예제 1"
   ]
  },
  {
   "cell_type": "code",
   "execution_count": 11,
   "metadata": {},
   "outputs": [
    {
     "data": {
      "text/plain": [
       "[4, 3, 6, 8, 7, 5, 2, 1]"
      ]
     },
     "execution_count": 11,
     "metadata": {},
     "output_type": "execute_result"
    }
   ],
   "source": [
    "n = int(input())\n",
    "\n",
    "A = []\n",
    "for i in range(n):\n",
    "    A.append(int(input()))\n",
    "\n",
    "A"
   ]
  },
  {
   "cell_type": "code",
   "execution_count": 8,
   "metadata": {},
   "outputs": [
    {
     "name": "stdout",
     "output_type": "stream",
     "text": [
      "['+', '+', '+', '+', '-', '-', '+', '+', '-', '+', '+', '-', '-', '-', '-', '-']\n"
     ]
    }
   ],
   "source": [
    "nat = 1\n",
    "\n",
    "result = []\n",
    "stack = []\n",
    "for i in range(len(A)):\n",
    "    if A[i] >= nat:\n",
    "        while A[i] >= nat:\n",
    "            stack.append(nat)\n",
    "            nat += 1\n",
    "            result.append('+')\n",
    "            \n",
    "        stack.pop()\n",
    "        result.append('-')\n",
    "\n",
    "    else:\n",
    "        if stack[-1] > A[i]:\n",
    "            result.append('NO')\n",
    "        else:\n",
    "            stack.pop()\n",
    "            result.append('-')\n",
    "\n",
    "if 'NO' in result:\n",
    "    print('NO')\n",
    "else:\n",
    "    print(result)"
   ]
  },
  {
   "cell_type": "markdown",
   "metadata": {},
   "source": [
    "예제 2"
   ]
  },
  {
   "cell_type": "code",
   "execution_count": 12,
   "metadata": {},
   "outputs": [
    {
     "data": {
      "text/plain": [
       "[1, 2, 5, 3, 4]"
      ]
     },
     "execution_count": 12,
     "metadata": {},
     "output_type": "execute_result"
    }
   ],
   "source": [
    "n = int(input())\n",
    "\n",
    "A = []\n",
    "for i in range(n):\n",
    "    A.append(int(input()))\n",
    "\n",
    "A"
   ]
  },
  {
   "cell_type": "code",
   "execution_count": 10,
   "metadata": {},
   "outputs": [
    {
     "name": "stdout",
     "output_type": "stream",
     "text": [
      "NO\n"
     ]
    }
   ],
   "source": [
    "nat = 1\n",
    "\n",
    "result = []\n",
    "stack = []\n",
    "for i in range(len(A)):\n",
    "    if A[i] >= nat:\n",
    "        while A[i] >= nat:\n",
    "            stack.append(nat)\n",
    "            nat += 1\n",
    "            result.append('+')\n",
    "            \n",
    "        stack.pop()\n",
    "        result.append('-')\n",
    "\n",
    "    else:\n",
    "        if stack[-1] > A[i]:\n",
    "            result.append('NO')\n",
    "        else:\n",
    "            stack.pop()\n",
    "            result.append('-')\n",
    "\n",
    "if 'NO' in result:\n",
    "    print('NO')\n",
    "else:\n",
    "    print(result)"
   ]
  }
 ],
 "metadata": {
  "kernelspec": {
   "display_name": "Python 3",
   "language": "python",
   "name": "python3"
  },
  "language_info": {
   "codemirror_mode": {
    "name": "ipython",
    "version": 3
   },
   "file_extension": ".py",
   "mimetype": "text/x-python",
   "name": "python",
   "nbconvert_exporter": "python",
   "pygments_lexer": "ipython3",
   "version": "3.11.5"
  }
 },
 "nbformat": 4,
 "nbformat_minor": 2
}
