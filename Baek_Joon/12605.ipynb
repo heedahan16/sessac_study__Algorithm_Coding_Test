{
 "cells": [
  {
   "cell_type": "markdown",
   "metadata": {},
   "source": [
    "> [브론즈II]\n",
    "# 12605_단어순서 뒤집기"
   ]
  },
  {
   "cell_type": "markdown",
   "metadata": {},
   "source": [
    "### 문제\n",
    "스페이스로 띄어쓰기 된 단어들의 리스트가 주어질때, 단어들을 반대 순서로 뒤집어라. 각 라인은 w개의 영단어로 이루어져 있으며, 총 L개의 알파벳을 가진다. 각 행은 알파벳과 스페이스로만 이루어져 있다. 단어 사이에는 하나의 스페이스만 들어간다.\n",
    "\n",
    "> ### 입력\n",
    "첫 행은 N이며, 전체 케이스의 개수이다.\n",
    "\n",
    "N개의 케이스들이 이어지는데, 각 케이스는 스페이스로 띄어진 단어들이다. 스페이스는 라인의 처음과 끝에는 나타나지 않는다. N과 L은 다음 범위를 가진다.\n",
    "\n",
    "- N = 5\n",
    "- 1 ≤ L ≤ 25\n",
    "\n",
    "> ### 출력\n",
    "각 케이스에 대해서, 케이스 번호가 x일때  \"Case #x: \" 를 출력한 후 그 후에 이어서 단어들을 반대 순서로 출력한다."
   ]
  },
  {
   "cell_type": "code",
   "execution_count": 1,
   "metadata": {},
   "outputs": [
    {
     "data": {
      "text/plain": [
       "['this is a test', 'foobar', 'all your base']"
      ]
     },
     "execution_count": 1,
     "metadata": {},
     "output_type": "execute_result"
    }
   ],
   "source": [
    "n = int(input())\n",
    "\n",
    "A = []\n",
    "for i in range(n):\n",
    "    A.append(input())\n",
    "\n",
    "A    "
   ]
  },
  {
   "cell_type": "code",
   "execution_count": 34,
   "metadata": {},
   "outputs": [
    {
     "name": "stdout",
     "output_type": "stream",
     "text": [
      "Case #1:  test a is this \n",
      "Case #2:  foobar \n",
      "Case #3:  base your all \n"
     ]
    }
   ],
   "source": [
    "for i in range(len(A)):\n",
    "    \n",
    "    stack = []\n",
    "    for j in range(len(A[i].split())):\n",
    "        stack.append(A[i].split()[j])\n",
    "\n",
    "\n",
    "    result = ''\n",
    "    for k in range(len(stack)):\n",
    "        result += stack.pop() + ' '\n",
    "    print(f'Case #{i+1}: ', result)"
   ]
  }
 ],
 "metadata": {
  "kernelspec": {
   "display_name": "Python 3",
   "language": "python",
   "name": "python3"
  },
  "language_info": {
   "codemirror_mode": {
    "name": "ipython",
    "version": 3
   },
   "file_extension": ".py",
   "mimetype": "text/x-python",
   "name": "python",
   "nbconvert_exporter": "python",
   "pygments_lexer": "ipython3",
   "version": "3.11.5"
  }
 },
 "nbformat": 4,
 "nbformat_minor": 2
}
